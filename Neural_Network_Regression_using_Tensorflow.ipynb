{
  "nbformat": 4,
  "nbformat_minor": 0,
  "metadata": {
    "colab": {
      "provenance": [],
      "authorship_tag": "ABX9TyO5Pb6jryhmDwRybpqlRF5u",
      "include_colab_link": true
    },
    "kernelspec": {
      "name": "python3",
      "display_name": "Python 3"
    },
    "language_info": {
      "name": "python"
    }
  },
  "cells": [
    {
      "cell_type": "markdown",
      "metadata": {
        "id": "view-in-github",
        "colab_type": "text"
      },
      "source": [
        "<a href=\"https://colab.research.google.com/github/iranamuneeb/Neural-Networks/blob/main/Neural_Network_Regression_using_Tensorflow.ipynb\" target=\"_parent\"><img src=\"https://colab.research.google.com/assets/colab-badge.svg\" alt=\"Open In Colab\"/></a>"
      ]
    },
    {
      "cell_type": "markdown",
      "source": [
        "## What are Regression Type Problems:\n",
        " * How much will this house sell for ?\n",
        " * How Many many people will buy this app?\n",
        " * How much will my health insurance be?\n",
        " * How much should I save each week for feul?\n",
        "\n",
        "\n",
        "\n",
        ">  \" We are basically Predicting a number of some sort\"\n",
        "\n",
        "\n",
        "\n",
        "***Covering following topics in this notebook:***\n",
        "\n",
        "1 - Architecture of a neural network regression model.\n",
        "\n",
        "2 - input shapes and output shapes of a regression model (features and labels)\n",
        "\n",
        "3 - Creating custom data to view and fit\n",
        "\n",
        "4 - steps in modelling\n",
        "\n",
        " * Creating a model, compiling a model, fitting a model, evaluating a model\n",
        "\n",
        "5 - Different evaluation methods\n",
        "\n",
        "6 - Saving and loading models"
      ],
      "metadata": {
        "id": "gUaqi8FIFYV2"
      }
    },
    {
      "cell_type": "code",
      "execution_count": null,
      "metadata": {
        "id": "k6Rls-WTEzsK"
      },
      "outputs": [],
      "source": []
    }
  ]
}
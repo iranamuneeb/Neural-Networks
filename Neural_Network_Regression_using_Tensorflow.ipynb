{
  "nbformat": 4,
  "nbformat_minor": 0,
  "metadata": {
    "colab": {
      "provenance": [],
      "authorship_tag": "ABX9TyNmtUc/AIOOSz4MXltWVhn/",
      "include_colab_link": true
    },
    "kernelspec": {
      "name": "python3",
      "display_name": "Python 3"
    },
    "language_info": {
      "name": "python"
    }
  },
  "cells": [
    {
      "cell_type": "markdown",
      "metadata": {
        "id": "view-in-github",
        "colab_type": "text"
      },
      "source": [
        "<a href=\"https://colab.research.google.com/github/iranamuneeb/Neural-Networks/blob/main/Neural_Network_Regression_using_Tensorflow.ipynb\" target=\"_parent\"><img src=\"https://colab.research.google.com/assets/colab-badge.svg\" alt=\"Open In Colab\"/></a>"
      ]
    },
    {
      "cell_type": "markdown",
      "source": [
        "# Introduction to Regression with Neural Networks in Tensorflow\n",
        "\n",
        "There are many definitions for a regression problem but in our case, we're going to simplify it: predicting a numerical bariable based on some other combination of variables, even shorter, predicting a number.\n",
        "\n",
        "## What are Regression Type Problems:\n",
        " * How much will this house sell for ?\n",
        " * How Many many people will buy this app?\n",
        " * How much will my health insurance be?\n",
        " * How much should I save each week for feul?\n",
        "\n",
        "\n",
        "\n",
        ">  \" We are basically Predicting a number of some sort\"\n",
        "\n",
        "\n",
        "\n",
        "***Covering following topics in this notebook:***\n",
        "\n",
        "1 - Architecture of a neural network regression model.\n",
        "\n",
        "2 - input shapes and output shapes of a regression model (features and labels)\n",
        "\n",
        "3 - Creating custom data to view and fit\n",
        "\n",
        "4 - steps in modelling\n",
        "\n",
        " * Creating a model, compiling a model, fitting a model, evaluating a model\n",
        "\n",
        "5 - Different evaluation methods\n",
        "\n",
        "6 - Saving and loading models"
      ],
      "metadata": {
        "id": "gUaqi8FIFYV2"
      }
    },
    {
      "cell_type": "code",
      "source": [
        "# importing tensorflow\n",
        "\n",
        "import tensorflow as tf\n",
        "import numpy as np\n",
        "import matplotlib.pyplot as plt"
      ],
      "metadata": {
        "id": "9iG6FNfF1Wnc"
      },
      "execution_count": 1,
      "outputs": []
    },
    {
      "cell_type": "markdown",
      "source": [
        "### Creating Data to view and fit"
      ],
      "metadata": {
        "id": "k6Rls-WTEzsK"
      }
    },
    {
      "cell_type": "code",
      "source": [
        "# creating features\n",
        "\n",
        "X = np.array([-7.0, -4.0, -1.0, 2.0, 5.0, 8.0, 11.0, 14.0])\n",
        "\n",
        "# creating labels\n",
        "\n",
        "y = np.array( [3.0, 6.0, 9.0, 12.0, 15.0, 18.0, 21.0, 24.0])\n",
        "\n",
        "# visualising the data\n",
        "\n",
        "plt.scatter(X, y)"
      ],
      "metadata": {
        "colab": {
          "base_uri": "https://localhost:8080/",
          "height": 453
        },
        "id": "_R8yt8CZ1mAl",
        "outputId": "34b3d34d-92af-4baf-d768-d76b8a72ff22"
      },
      "execution_count": 2,
      "outputs": [
        {
          "output_type": "execute_result",
          "data": {
            "text/plain": [
              "<matplotlib.collections.PathCollection at 0x796e00f61e70>"
            ]
          },
          "metadata": {},
          "execution_count": 2
        },
        {
          "output_type": "display_data",
          "data": {
            "text/plain": [
              "<Figure size 640x480 with 1 Axes>"
            ],
            "image/png": "[encoded data removed]"
          },
          "metadata": {}
        }
      ]
    },
    {
      "cell_type": "markdown",
      "source": [
        "### Input and Output Shapes"
      ],
      "metadata": {
        "id": "mmkb0FLS1-LW"
      }
    },
    {
      "cell_type": "code",
      "source": [
        "# creating a demo tensor for our housing price prediction\n",
        "\n",
        "house_info = tf.constant([\"bedroom\", \"bathroom\", \"garage\"])\n",
        "house_price = tf.constant([939700])\n",
        "house_info, house_price"
      ],
      "metadata": {
        "colab": {
          "base_uri": "https://localhost:8080/"
        },
        "id": "YBfN93Pr2jcr",
        "outputId": "8308ff2d-c97c-477d-abf1-0ca365be1ca5"
      },
      "execution_count": 3,
      "outputs": [
        {
          "output_type": "execute_result",
          "data": {
            "text/plain": [
              "(<tf.Tensor: shape=(3,), dtype=string, numpy=array([b'bedroom', b'bathroom', b'garage'], dtype=object)>,\n",
              " <tf.Tensor: shape=(1,), dtype=int32, numpy=array([939700], dtype=int32)>)"
            ]
          },
          "metadata": {},
          "execution_count": 3
        }
      ]
    },
    {
      "cell_type": "code",
      "source": [
        "input_shape = X.shape\n",
        "output_shape = y.shape\n",
        "input_shape, output_shape"
      ],
      "metadata": {
        "colab": {
          "base_uri": "https://localhost:8080/"
        },
        "id": "maYTnUEK3AVU",
        "outputId": "e6e22a2c-7d57-43d6-e8c5-a5e5a725a109"
      },
      "execution_count": 4,
      "outputs": [
        {
          "output_type": "execute_result",
          "data": {
            "text/plain": [
              "((8,), (8,))"
            ]
          },
          "metadata": {},
          "execution_count": 4
        }
      ]
    },
    {
      "cell_type": "code",
      "source": [
        "# Turning our numpy arrays into tensors\n",
        "\n",
        "X = tf.constant(X)\n",
        "y = tf.constant(y)\n",
        "\n",
        "X, y"
      ],
      "metadata": {
        "id": "LA6NNd-s3G4j",
        "colab": {
          "base_uri": "https://localhost:8080/"
        },
        "outputId": "c07e7f2d-358e-4fcb-d9f1-4536d2faf3f6"
      },
      "execution_count": 5,
      "outputs": [
        {
          "output_type": "execute_result",
          "data": {
            "text/plain": [
              "(<tf.Tensor: shape=(8,), dtype=float64, numpy=array([-7., -4., -1.,  2.,  5.,  8., 11., 14.])>,\n",
              " <tf.Tensor: shape=(8,), dtype=float64, numpy=array([ 3.,  6.,  9., 12., 15., 18., 21., 24.])>)"
            ]
          },
          "metadata": {},
          "execution_count": 5
        }
      ]
    },
    {
      "cell_type": "code",
      "source": [
        "input_shape = X[0].shape\n",
        "output_shape = y[0].shape\n",
        "input_shape, output_shape"
      ],
      "metadata": {
        "colab": {
          "base_uri": "https://localhost:8080/"
        },
        "id": "070OvdMuSRzD",
        "outputId": "02a30cbd-3698-4cca-efae-11d3e022e26c"
      },
      "execution_count": 6,
      "outputs": [
        {
          "output_type": "execute_result",
          "data": {
            "text/plain": [
              "(TensorShape([]), TensorShape([]))"
            ]
          },
          "metadata": {},
          "execution_count": 6
        }
      ]
    },
    {
      "cell_type": "markdown",
      "source": [
        "## Steps in modeling with tensorflow\n",
        "\n",
        "1. **Creating a model** - define the input and output layers, as well as the hidden layers of a deep learning mmode.\n",
        "2. **Compiling a model** - define the loss function (in another words, the function which tells out model how wrong it is) and the optimizer (tells our model how to improve the patterns its learning) and evaluation metrics (what we can use to interpret the performance of our model).\n",
        "3. **Fitting a model** - letting the model try to find patterns between X & y (features and labels)."
      ],
      "metadata": {
        "id": "Dl3J7QVySYI6"
      }
    },
    {
      "cell_type": "code",
      "source": [
        "# Set random seed\n",
        "\n",
        "tf.random.set_seed(42)\n",
        "\n",
        "model = tf.keras.Sequential([\n",
        "    tf.keras.layers.Dense(1)\n",
        "])\n",
        "\n",
        "model.compile(loss = tf.keras.losses.mae, #mae is short for mean absolute error\n",
        "              optimizer = tf.keras.optimizers.SGD(), #sgd is short for stohasitic gradient descent\n",
        "              metrics = [\"mae\"]\n",
        "\n",
        "              )\n",
        "\n",
        "model.fit(tf.expand_dims(X, axis=-1), y, epochs=5)"
      ],
      "metadata": {
        "colab": {
          "base_uri": "https://localhost:8080/"
        },
        "id": "3kYiL6EQTfRI",
        "outputId": "a625daff-209e-4cab-deed-0352a2f8d1f6"
      },
      "execution_count": 15,
      "outputs": [
        {
          "output_type": "stream",
          "name": "stdout",
          "text": [
            "Epoch 1/20\n",
            "1/1 [==============================] - 0s 402ms/step - loss: 8.7943 - mae: 8.7943\n",
            "Epoch 2/20\n",
            "1/1 [==============================] - 0s 14ms/step - loss: 8.6618 - mae: 8.6618\n",
            "Epoch 3/20\n",
            "1/1 [==============================] - 0s 18ms/step - loss: 8.5293 - mae: 8.5293\n",
            "Epoch 4/20\n",
            "1/1 [==============================] - 0s 15ms/step - loss: 8.3968 - mae: 8.3968\n",
            "Epoch 5/20\n",
            "1/1 [==============================] - 0s 23ms/step - loss: 8.2643 - mae: 8.2643\n",
            "Epoch 6/20\n",
            "1/1 [==============================] - 0s 20ms/step - loss: 8.1318 - mae: 8.1318\n",
            "Epoch 7/20\n",
            "1/1 [==============================] - 0s 22ms/step - loss: 7.9993 - mae: 7.9993\n",
            "Epoch 8/20\n",
            "1/1 [==============================] - 0s 15ms/step - loss: 7.8668 - mae: 7.8668\n",
            "Epoch 9/20\n",
            "1/1 [==============================] - 0s 14ms/step - loss: 7.7343 - mae: 7.7343\n",
            "Epoch 10/20\n",
            "1/1 [==============================] - 0s 24ms/step - loss: 7.6018 - mae: 7.6018\n",
            "Epoch 11/20\n",
            "1/1 [==============================] - 0s 17ms/step - loss: 7.4693 - mae: 7.4693\n",
            "Epoch 12/20\n",
            "1/1 [==============================] - 0s 19ms/step - loss: 7.4175 - mae: 7.4175\n",
            "Epoch 13/20\n",
            "1/1 [==============================] - 0s 15ms/step - loss: 7.4119 - mae: 7.4119\n",
            "Epoch 14/20\n",
            "1/1 [==============================] - 0s 16ms/step - loss: 7.4062 - mae: 7.4062\n",
            "Epoch 15/20\n",
            "1/1 [==============================] - 0s 15ms/step - loss: 7.4006 - mae: 7.4006\n",
            "Epoch 16/20\n",
            "1/1 [==============================] - 0s 17ms/step - loss: 7.3950 - mae: 7.3950\n",
            "Epoch 17/20\n",
            "1/1 [==============================] - 0s 17ms/step - loss: 7.3894 - mae: 7.3894\n",
            "Epoch 18/20\n",
            "1/1 [==============================] - 0s 20ms/step - loss: 7.3838 - mae: 7.3838\n",
            "Epoch 19/20\n",
            "1/1 [==============================] - 0s 20ms/step - loss: 7.3781 - mae: 7.3781\n",
            "Epoch 20/20\n",
            "1/1 [==============================] - 0s 16ms/step - loss: 7.3725 - mae: 7.3725\n"
          ]
        },
        {
          "output_type": "execute_result",
          "data": {
            "text/plain": [
              "<keras.src.callbacks.History at 0x796deb5de8c0>"
            ]
          },
          "metadata": {},
          "execution_count": 15
        }
      ]
    },
    {
      "cell_type": "code",
      "source": [
        "X, y\n"
      ],
      "metadata": {
        "colab": {
          "base_uri": "https://localhost:8080/"
        },
        "id": "ruyuJe3EWj8z",
        "outputId": "7ba8ab8c-8473-42d1-b936-b66e7fbcebc6"
      },
      "execution_count": 16,
      "outputs": [
        {
          "output_type": "execute_result",
          "data": {
            "text/plain": [
              "(<tf.Tensor: shape=(8,), dtype=float64, numpy=array([-7., -4., -1.,  2.,  5.,  8., 11., 14.])>,\n",
              " <tf.Tensor: shape=(8,), dtype=float64, numpy=array([ 3.,  6.,  9., 12., 15., 18., 21., 24.])>)"
            ]
          },
          "metadata": {},
          "execution_count": 16
        }
      ]
    },
    {
      "cell_type": "code",
      "source": [
        "model.predict([17.0])"
      ],
      "metadata": {
        "colab": {
          "base_uri": "https://localhost:8080/"
        },
        "id": "1yyqFQvhacEs",
        "outputId": "bf209e9a-5184-4cc8-9508-adacfa9c8dc8"
      },
      "execution_count": 17,
      "outputs": [
        {
          "output_type": "stream",
          "name": "stdout",
          "text": [
            "1/1 [==============================] - 0s 70ms/step\n"
          ]
        },
        {
          "output_type": "execute_result",
          "data": {
            "text/plain": [
              "array([[29.57868]], dtype=float32)"
            ]
          },
          "metadata": {},
          "execution_count": 17
        }
      ]
    },
    {
      "cell_type": "markdown",
      "source": [
        "## Improving our model\n",
        "\n",
        "we can improve our model by altering the steps we took to create a model.\n",
        "\n",
        "1. **Creating a model** - here we migh add more layers, increase the number of hidden units (all called neurons) within each of the hidden layers, change the activation function of each layer.\n",
        "\n",
        "2. **Compiling a model** - here we might change the optimization function or perhaps the **learning rate** of the optimization function.\n",
        "\n",
        "3. **Fitting a model** - here we might fit a model for more **epochs** ( leave it training for longer) or on more data (give the model more examples to learn from)"
      ],
      "metadata": {
        "id": "FNav14BQagn0"
      }
    },
    {
      "cell_type": "code",
      "source": [
        "# creating model\n",
        "\n",
        "model = tf.keras.Sequential([\n",
        "    tf.keras.layers.Dense(10, activation=\"relu\"),\n",
        "    tf.keras.layers.Dense(5, activation=\"relu\"),\n",
        "    tf.keras.layers.Dense(1)\n",
        "])\n",
        "\n",
        "# compiling the model\n",
        "\n",
        "model.compile(loss = tf.keras.losses.mae,\n",
        "              optimizer=tf.keras.optimizers.SGD(l4=0.00001),\n",
        "              metrics = [\"mae\"])\n",
        "\n",
        "# fit the model\n",
        "\n",
        "model.fit(tf.expand_dims(X, axis=-1), y, epochs = 100)"
      ],
      "metadata": {
        "colab": {
          "base_uri": "https://localhost:8080/"
        },
        "id": "bgxt6j9GcSoY",
        "outputId": "b764e554-0fc8-4d05-c821-7178e22fa5c7"
      },
      "execution_count": 21,
      "outputs": [
        {
          "output_type": "stream",
          "name": "stdout",
          "text": [
            "Epoch 1/100\n",
            "1/1 [==============================] - 1s 552ms/step - loss: 12.4568 - mae: 12.4568\n",
            "Epoch 2/100\n",
            "1/1 [==============================] - 0s 21ms/step - loss: 12.3243 - mae: 12.3243\n",
            "Epoch 3/100\n",
            "1/1 [==============================] - 0s 14ms/step - loss: 12.1918 - mae: 12.1918\n",
            "Epoch 4/100\n",
            "1/1 [==============================] - 0s 15ms/step - loss: 12.0593 - mae: 12.0593\n",
            "Epoch 5/100\n",
            "1/1 [==============================] - 0s 14ms/step - loss: 11.9268 - mae: 11.9268\n",
            "Epoch 6/100\n",
            "1/1 [==============================] - 0s 22ms/step - loss: 11.7943 - mae: 11.7943\n",
            "Epoch 7/100\n",
            "1/1 [==============================] - 0s 14ms/step - loss: 11.6618 - mae: 11.6618\n",
            "Epoch 8/100\n",
            "1/1 [==============================] - 0s 18ms/step - loss: 11.5293 - mae: 11.5293\n",
            "Epoch 9/100\n",
            "1/1 [==============================] - 0s 17ms/step - loss: 11.3968 - mae: 11.3968\n",
            "Epoch 10/100\n",
            "1/1 [==============================] - 0s 14ms/step - loss: 11.2643 - mae: 11.2643\n",
            "Epoch 11/100\n",
            "1/1 [==============================] - 0s 13ms/step - loss: 11.1318 - mae: 11.1318\n",
            "Epoch 12/100\n",
            "1/1 [==============================] - 0s 19ms/step - loss: 10.9993 - mae: 10.9993\n",
            "Epoch 13/100\n",
            "1/1 [==============================] - 0s 20ms/step - loss: 10.8668 - mae: 10.8668\n",
            "Epoch 14/100\n",
            "1/1 [==============================] - 0s 15ms/step - loss: 10.7343 - mae: 10.7343\n",
            "Epoch 15/100\n",
            "1/1 [==============================] - 0s 16ms/step - loss: 10.6018 - mae: 10.6018\n",
            "Epoch 16/100\n",
            "1/1 [==============================] - 0s 12ms/step - loss: 10.4693 - mae: 10.4693\n",
            "Epoch 17/100\n",
            "1/1 [==============================] - 0s 12ms/step - loss: 10.3368 - mae: 10.3368\n",
            "Epoch 18/100\n",
            "1/1 [==============================] - 0s 14ms/step - loss: 10.2043 - mae: 10.2043\n",
            "Epoch 19/100\n",
            "1/1 [==============================] - 0s 16ms/step - loss: 10.0718 - mae: 10.0718\n",
            "Epoch 20/100\n",
            "1/1 [==============================] - 0s 15ms/step - loss: 9.9393 - mae: 9.9393\n",
            "Epoch 21/100\n",
            "1/1 [==============================] - 0s 13ms/step - loss: 9.8068 - mae: 9.8068\n",
            "Epoch 22/100\n",
            "1/1 [==============================] - 0s 11ms/step - loss: 9.6743 - mae: 9.6743\n",
            "Epoch 23/100\n",
            "1/1 [==============================] - 0s 16ms/step - loss: 9.5418 - mae: 9.5418\n",
            "Epoch 24/100\n",
            "1/1 [==============================] - 0s 14ms/step - loss: 9.4093 - mae: 9.4093\n",
            "Epoch 25/100\n",
            "1/1 [==============================] - 0s 16ms/step - loss: 9.2768 - mae: 9.2768\n",
            "Epoch 26/100\n",
            "1/1 [==============================] - 0s 14ms/step - loss: 9.1443 - mae: 9.1443\n",
            "Epoch 27/100\n",
            "1/1 [==============================] - 0s 14ms/step - loss: 9.0118 - mae: 9.0118\n",
            "Epoch 28/100\n",
            "1/1 [==============================] - 0s 14ms/step - loss: 8.8793 - mae: 8.8793\n",
            "Epoch 29/100\n",
            "1/1 [==============================] - 0s 14ms/step - loss: 8.7468 - mae: 8.7468\n",
            "Epoch 30/100\n",
            "1/1 [==============================] - 0s 19ms/step - loss: 8.6143 - mae: 8.6143\n",
            "Epoch 31/100\n",
            "1/1 [==============================] - 0s 13ms/step - loss: 8.4818 - mae: 8.4818\n",
            "Epoch 32/100\n",
            "1/1 [==============================] - 0s 13ms/step - loss: 8.3493 - mae: 8.3493\n",
            "Epoch 33/100\n",
            "1/1 [==============================] - 0s 15ms/step - loss: 8.2168 - mae: 8.2168\n",
            "Epoch 34/100\n",
            "1/1 [==============================] - 0s 16ms/step - loss: 8.0843 - mae: 8.0843\n",
            "Epoch 35/100\n",
            "1/1 [==============================] - 0s 15ms/step - loss: 7.9518 - mae: 7.9518\n",
            "Epoch 36/100\n",
            "1/1 [==============================] - 0s 13ms/step - loss: 7.8193 - mae: 7.8193\n",
            "Epoch 37/100\n",
            "1/1 [==============================] - 0s 17ms/step - loss: 7.6868 - mae: 7.6868\n",
            "Epoch 38/100\n",
            "1/1 [==============================] - 0s 16ms/step - loss: 7.5543 - mae: 7.5543\n",
            "Epoch 39/100\n",
            "1/1 [==============================] - 0s 16ms/step - loss: 7.4219 - mae: 7.4219\n",
            "Epoch 40/100\n",
            "1/1 [==============================] - 0s 19ms/step - loss: 7.2894 - mae: 7.2894\n",
            "Epoch 41/100\n",
            "1/1 [==============================] - 0s 16ms/step - loss: 7.2000 - mae: 7.2000\n",
            "Epoch 42/100\n",
            "1/1 [==============================] - 0s 18ms/step - loss: 7.1944 - mae: 7.1944\n",
            "Epoch 43/100\n",
            "1/1 [==============================] - 0s 17ms/step - loss: 7.1888 - mae: 7.1888\n",
            "Epoch 44/100\n",
            "1/1 [==============================] - 0s 16ms/step - loss: 7.1831 - mae: 7.1831\n",
            "Epoch 45/100\n",
            "1/1 [==============================] - 0s 16ms/step - loss: 7.1775 - mae: 7.1775\n",
            "Epoch 46/100\n",
            "1/1 [==============================] - 0s 21ms/step - loss: 7.1719 - mae: 7.1719\n",
            "Epoch 47/100\n",
            "1/1 [==============================] - 0s 17ms/step - loss: 7.1663 - mae: 7.1663\n",
            "Epoch 48/100\n",
            "1/1 [==============================] - 0s 32ms/step - loss: 7.1606 - mae: 7.1606\n",
            "Epoch 49/100\n",
            "1/1 [==============================] - 0s 25ms/step - loss: 7.1550 - mae: 7.1550\n",
            "Epoch 50/100\n",
            "1/1 [==============================] - 0s 25ms/step - loss: 7.1494 - mae: 7.1494\n",
            "Epoch 51/100\n",
            "1/1 [==============================] - 0s 18ms/step - loss: 7.1438 - mae: 7.1438\n",
            "Epoch 52/100\n",
            "1/1 [==============================] - 0s 19ms/step - loss: 7.1381 - mae: 7.1381\n",
            "Epoch 53/100\n",
            "1/1 [==============================] - 0s 16ms/step - loss: 7.1325 - mae: 7.1325\n",
            "Epoch 54/100\n",
            "1/1 [==============================] - 0s 20ms/step - loss: 7.1269 - mae: 7.1269\n",
            "Epoch 55/100\n",
            "1/1 [==============================] - 0s 24ms/step - loss: 7.1213 - mae: 7.1213\n",
            "Epoch 56/100\n",
            "1/1 [==============================] - 0s 23ms/step - loss: 7.1156 - mae: 7.1156\n",
            "Epoch 57/100\n",
            "1/1 [==============================] - 0s 27ms/step - loss: 7.1100 - mae: 7.1100\n",
            "Epoch 58/100\n",
            "1/1 [==============================] - 0s 24ms/step - loss: 7.1044 - mae: 7.1044\n",
            "Epoch 59/100\n",
            "1/1 [==============================] - 0s 25ms/step - loss: 7.0988 - mae: 7.0988\n",
            "Epoch 60/100\n",
            "1/1 [==============================] - 0s 24ms/step - loss: 7.0931 - mae: 7.0931\n",
            "Epoch 61/100\n",
            "1/1 [==============================] - 0s 29ms/step - loss: 7.0875 - mae: 7.0875\n",
            "Epoch 62/100\n",
            "1/1 [==============================] - 0s 30ms/step - loss: 7.0819 - mae: 7.0819\n",
            "Epoch 63/100\n",
            "1/1 [==============================] - 0s 27ms/step - loss: 7.0763 - mae: 7.0763\n",
            "Epoch 64/100\n",
            "1/1 [==============================] - 0s 31ms/step - loss: 7.0706 - mae: 7.0706\n",
            "Epoch 65/100\n",
            "1/1 [==============================] - 0s 24ms/step - loss: 7.0650 - mae: 7.0650\n",
            "Epoch 66/100\n",
            "1/1 [==============================] - 0s 26ms/step - loss: 7.0594 - mae: 7.0594\n",
            "Epoch 67/100\n",
            "1/1 [==============================] - 0s 21ms/step - loss: 7.0538 - mae: 7.0538\n",
            "Epoch 68/100\n",
            "1/1 [==============================] - 0s 16ms/step - loss: 7.0481 - mae: 7.0481\n",
            "Epoch 69/100\n",
            "1/1 [==============================] - 0s 14ms/step - loss: 7.0425 - mae: 7.0425\n",
            "Epoch 70/100\n",
            "1/1 [==============================] - 0s 16ms/step - loss: 7.0369 - mae: 7.0369\n",
            "Epoch 71/100\n",
            "1/1 [==============================] - 0s 17ms/step - loss: 7.0312 - mae: 7.0312\n",
            "Epoch 72/100\n",
            "1/1 [==============================] - 0s 15ms/step - loss: 7.0256 - mae: 7.0256\n",
            "Epoch 73/100\n",
            "1/1 [==============================] - 0s 15ms/step - loss: 7.0200 - mae: 7.0200\n",
            "Epoch 74/100\n",
            "1/1 [==============================] - 0s 14ms/step - loss: 7.0144 - mae: 7.0144\n",
            "Epoch 75/100\n",
            "1/1 [==============================] - 0s 13ms/step - loss: 7.0088 - mae: 7.0088\n",
            "Epoch 76/100\n",
            "1/1 [==============================] - 0s 17ms/step - loss: 7.0031 - mae: 7.0031\n",
            "Epoch 77/100\n",
            "1/1 [==============================] - 0s 15ms/step - loss: 6.9975 - mae: 6.9975\n",
            "Epoch 78/100\n",
            "1/1 [==============================] - 0s 18ms/step - loss: 6.9919 - mae: 6.9919\n",
            "Epoch 79/100\n",
            "1/1 [==============================] - 0s 16ms/step - loss: 6.9863 - mae: 6.9863\n",
            "Epoch 80/100\n",
            "1/1 [==============================] - 0s 17ms/step - loss: 6.9806 - mae: 6.9806\n",
            "Epoch 81/100\n",
            "1/1 [==============================] - 0s 18ms/step - loss: 6.9750 - mae: 6.9750\n",
            "Epoch 82/100\n",
            "1/1 [==============================] - 0s 15ms/step - loss: 6.9694 - mae: 6.9694\n",
            "Epoch 83/100\n",
            "1/1 [==============================] - 0s 15ms/step - loss: 6.9638 - mae: 6.9638\n",
            "Epoch 84/100\n",
            "1/1 [==============================] - 0s 12ms/step - loss: 6.9581 - mae: 6.9581\n",
            "Epoch 85/100\n",
            "1/1 [==============================] - 0s 13ms/step - loss: 6.9525 - mae: 6.9525\n",
            "Epoch 86/100\n",
            "1/1 [==============================] - 0s 12ms/step - loss: 6.9469 - mae: 6.9469\n",
            "Epoch 87/100\n",
            "1/1 [==============================] - 0s 21ms/step - loss: 6.9413 - mae: 6.9413\n",
            "Epoch 88/100\n",
            "1/1 [==============================] - 0s 16ms/step - loss: 6.9356 - mae: 6.9356\n",
            "Epoch 89/100\n",
            "1/1 [==============================] - 0s 17ms/step - loss: 6.9300 - mae: 6.9300\n",
            "Epoch 90/100\n",
            "1/1 [==============================] - 0s 14ms/step - loss: 6.9244 - mae: 6.9244\n",
            "Epoch 91/100\n",
            "1/1 [==============================] - 0s 15ms/step - loss: 6.9188 - mae: 6.9188\n",
            "Epoch 92/100\n",
            "1/1 [==============================] - 0s 18ms/step - loss: 6.9131 - mae: 6.9131\n",
            "Epoch 93/100\n",
            "1/1 [==============================] - 0s 14ms/step - loss: 6.9075 - mae: 6.9075\n",
            "Epoch 94/100\n",
            "1/1 [==============================] - 0s 17ms/step - loss: 6.9019 - mae: 6.9019\n",
            "Epoch 95/100\n",
            "1/1 [==============================] - 0s 14ms/step - loss: 6.8963 - mae: 6.8963\n",
            "Epoch 96/100\n",
            "1/1 [==============================] - 0s 14ms/step - loss: 6.8906 - mae: 6.8906\n",
            "Epoch 97/100\n",
            "1/1 [==============================] - 0s 14ms/step - loss: 6.8850 - mae: 6.8850\n",
            "Epoch 98/100\n",
            "1/1 [==============================] - 0s 16ms/step - loss: 6.8794 - mae: 6.8794\n",
            "Epoch 99/100\n",
            "1/1 [==============================] - 0s 13ms/step - loss: 6.8738 - mae: 6.8738\n",
            "Epoch 100/100\n",
            "1/1 [==============================] - 0s 13ms/step - loss: 6.8681 - mae: 6.8681\n"
          ]
        },
        {
          "output_type": "execute_result",
          "data": {
            "text/plain": [
              "<keras.src.callbacks.History at 0x796dec490670>"
            ]
          },
          "metadata": {},
          "execution_count": 21
        }
      ]
    },
    {
      "cell_type": "code",
      "source": [
        "model.predict([17.0])"
      ],
      "metadata": {
        "colab": {
          "base_uri": "https://localhost:8080/"
        },
        "id": "n7AIHGnDdnkX",
        "outputId": "a995575d-fa5f-4f25-bf9d-8ef1af6b82f2"
      },
      "execution_count": 23,
      "outputs": [
        {
          "output_type": "stream",
          "name": "stdout",
          "text": [
            "1/1 [==============================] - 0s 111ms/step\n"
          ]
        },
        {
          "output_type": "execute_result",
          "data": {
            "text/plain": [
              "array([[29.71673]], dtype=float32)"
            ]
          },
          "metadata": {},
          "execution_count": 23
        }
      ]
    },
    {
      "cell_type": "code",
      "source": [
        "# creating model\n",
        "\n",
        "model = tf.keras.Sequential([\n",
        "    tf.keras.layers.Dense(50),\n",
        "    #tf.keras.layers.Dense(5, activation=\"relu\"),\n",
        "    tf.keras.layers.Dense(1)\n",
        "])\n",
        "\n",
        "# compiling the model\n",
        "\n",
        "model.compile(loss = \"mae\",\n",
        "              optimizer=tf.keras.optimizers.Adam(learning_rate=0.01),\n",
        "              metrics = [\"mae\"])\n",
        "\n",
        "# fit the model\n",
        "\n",
        "model.fit(tf.expand_dims(X, axis=-1), y, epochs = 100)"
      ],
      "metadata": {
        "colab": {
          "base_uri": "https://localhost:8080/"
        },
        "id": "Tn90sIn4dxtw",
        "outputId": "04cedca9-d68b-4825-974b-031f4425a294"
      },
      "execution_count": 51,
      "outputs": [
        {
          "output_type": "stream",
          "name": "stdout",
          "text": [
            "Epoch 1/100\n",
            "1/1 [==============================] - 1s 582ms/step - loss: 13.0850 - mae: 13.0850\n",
            "Epoch 2/100\n",
            "1/1 [==============================] - 0s 13ms/step - loss: 12.3257 - mae: 12.3257\n",
            "Epoch 3/100\n",
            "1/1 [==============================] - 0s 11ms/step - loss: 11.5607 - mae: 11.5607\n",
            "Epoch 4/100\n",
            "1/1 [==============================] - 0s 13ms/step - loss: 10.7884 - mae: 10.7884\n",
            "Epoch 5/100\n",
            "1/1 [==============================] - 0s 12ms/step - loss: 10.0073 - mae: 10.0073\n",
            "Epoch 6/100\n",
            "1/1 [==============================] - 0s 10ms/step - loss: 9.2163 - mae: 9.2163\n",
            "Epoch 7/100\n",
            "1/1 [==============================] - 0s 11ms/step - loss: 8.4139 - mae: 8.4139\n",
            "Epoch 8/100\n",
            "1/1 [==============================] - 0s 11ms/step - loss: 7.5979 - mae: 7.5979\n",
            "Epoch 9/100\n",
            "1/1 [==============================] - 0s 11ms/step - loss: 6.8356 - mae: 6.8356\n",
            "Epoch 10/100\n",
            "1/1 [==============================] - 0s 11ms/step - loss: 6.8463 - mae: 6.8463\n",
            "Epoch 11/100\n",
            "1/1 [==============================] - 0s 10ms/step - loss: 7.1415 - mae: 7.1415\n",
            "Epoch 12/100\n",
            "1/1 [==============================] - 0s 12ms/step - loss: 7.3111 - mae: 7.3111\n",
            "Epoch 13/100\n",
            "1/1 [==============================] - 0s 10ms/step - loss: 7.4285 - mae: 7.4285\n",
            "Epoch 14/100\n",
            "1/1 [==============================] - 0s 11ms/step - loss: 7.3605 - mae: 7.3605\n",
            "Epoch 15/100\n",
            "1/1 [==============================] - 0s 12ms/step - loss: 7.1311 - mae: 7.1311\n",
            "Epoch 16/100\n",
            "1/1 [==============================] - 0s 10ms/step - loss: 6.9183 - mae: 6.9183\n",
            "Epoch 17/100\n",
            "1/1 [==============================] - 0s 11ms/step - loss: 6.6721 - mae: 6.6721\n",
            "Epoch 18/100\n",
            "1/1 [==============================] - 0s 11ms/step - loss: 6.3988 - mae: 6.3988\n",
            "Epoch 19/100\n",
            "1/1 [==============================] - 0s 11ms/step - loss: 6.1360 - mae: 6.1360\n",
            "Epoch 20/100\n",
            "1/1 [==============================] - 0s 13ms/step - loss: 6.0799 - mae: 6.0799\n",
            "Epoch 21/100\n",
            "1/1 [==============================] - 0s 11ms/step - loss: 6.0199 - mae: 6.0199\n",
            "Epoch 22/100\n",
            "1/1 [==============================] - 0s 11ms/step - loss: 6.1576 - mae: 6.1576\n",
            "Epoch 23/100\n",
            "1/1 [==============================] - 0s 9ms/step - loss: 6.1703 - mae: 6.1703\n",
            "Epoch 24/100\n",
            "1/1 [==============================] - 0s 9ms/step - loss: 6.0719 - mae: 6.0719\n",
            "Epoch 25/100\n",
            "1/1 [==============================] - 0s 10ms/step - loss: 5.8763 - mae: 5.8763\n",
            "Epoch 26/100\n",
            "1/1 [==============================] - 0s 10ms/step - loss: 5.6007 - mae: 5.6007\n",
            "Epoch 27/100\n",
            "1/1 [==============================] - 0s 10ms/step - loss: 5.4951 - mae: 5.4951\n",
            "Epoch 28/100\n",
            "1/1 [==============================] - 0s 10ms/step - loss: 5.3864 - mae: 5.3864\n",
            "Epoch 29/100\n",
            "1/1 [==============================] - 0s 11ms/step - loss: 5.2990 - mae: 5.2990\n",
            "Epoch 30/100\n",
            "1/1 [==============================] - 0s 9ms/step - loss: 5.2661 - mae: 5.2661\n",
            "Epoch 31/100\n",
            "1/1 [==============================] - 0s 10ms/step - loss: 5.1813 - mae: 5.1813\n",
            "Epoch 32/100\n",
            "1/1 [==============================] - 0s 10ms/step - loss: 5.0490 - mae: 5.0490\n",
            "Epoch 33/100\n",
            "1/1 [==============================] - 0s 10ms/step - loss: 4.8735 - mae: 4.8735\n",
            "Epoch 34/100\n",
            "1/1 [==============================] - 0s 10ms/step - loss: 4.7696 - mae: 4.7696\n",
            "Epoch 35/100\n",
            "1/1 [==============================] - 0s 10ms/step - loss: 4.6682 - mae: 4.6682\n",
            "Epoch 36/100\n",
            "1/1 [==============================] - 0s 10ms/step - loss: 4.5599 - mae: 4.5599\n",
            "Epoch 37/100\n",
            "1/1 [==============================] - 0s 16ms/step - loss: 4.5051 - mae: 4.5051\n",
            "Epoch 38/100\n",
            "1/1 [==============================] - 0s 12ms/step - loss: 4.3541 - mae: 4.3541\n",
            "Epoch 39/100\n",
            "1/1 [==============================] - 0s 14ms/step - loss: 4.1667 - mae: 4.1667\n",
            "Epoch 40/100\n",
            "1/1 [==============================] - 0s 11ms/step - loss: 4.0140 - mae: 4.0140\n",
            "Epoch 41/100\n",
            "1/1 [==============================] - 0s 14ms/step - loss: 3.8549 - mae: 3.8549\n",
            "Epoch 42/100\n",
            "1/1 [==============================] - 0s 12ms/step - loss: 3.7943 - mae: 3.7943\n",
            "Epoch 43/100\n",
            "1/1 [==============================] - 0s 13ms/step - loss: 3.6783 - mae: 3.6783\n",
            "Epoch 44/100\n",
            "1/1 [==============================] - 0s 11ms/step - loss: 3.5021 - mae: 3.5021\n",
            "Epoch 45/100\n",
            "1/1 [==============================] - 0s 11ms/step - loss: 3.2695 - mae: 3.2695\n",
            "Epoch 46/100\n",
            "1/1 [==============================] - 0s 12ms/step - loss: 3.0585 - mae: 3.0585\n",
            "Epoch 47/100\n",
            "1/1 [==============================] - 0s 17ms/step - loss: 2.8938 - mae: 2.8938\n",
            "Epoch 48/100\n",
            "1/1 [==============================] - 0s 11ms/step - loss: 2.8236 - mae: 2.8236\n",
            "Epoch 49/100\n",
            "1/1 [==============================] - 0s 10ms/step - loss: 2.6113 - mae: 2.6113\n",
            "Epoch 50/100\n",
            "1/1 [==============================] - 0s 12ms/step - loss: 2.3046 - mae: 2.3046\n",
            "Epoch 51/100\n",
            "1/1 [==============================] - 0s 14ms/step - loss: 2.0962 - mae: 2.0962\n",
            "Epoch 52/100\n",
            "1/1 [==============================] - 0s 14ms/step - loss: 1.9276 - mae: 1.9276\n",
            "Epoch 53/100\n",
            "1/1 [==============================] - 0s 13ms/step - loss: 1.6860 - mae: 1.6860\n",
            "Epoch 54/100\n",
            "1/1 [==============================] - 0s 10ms/step - loss: 1.4147 - mae: 1.4147\n",
            "Epoch 55/100\n",
            "1/1 [==============================] - 0s 12ms/step - loss: 1.2177 - mae: 1.2177\n",
            "Epoch 56/100\n",
            "1/1 [==============================] - 0s 14ms/step - loss: 0.9259 - mae: 0.9259\n",
            "Epoch 57/100\n",
            "1/1 [==============================] - 0s 11ms/step - loss: 0.6731 - mae: 0.6731\n",
            "Epoch 58/100\n",
            "1/1 [==============================] - 0s 13ms/step - loss: 0.3913 - mae: 0.3913\n",
            "Epoch 59/100\n",
            "1/1 [==============================] - 0s 16ms/step - loss: 0.1119 - mae: 0.1119\n",
            "Epoch 60/100\n",
            "1/1 [==============================] - 0s 13ms/step - loss: 0.1805 - mae: 0.1805\n",
            "Epoch 61/100\n",
            "1/1 [==============================] - 0s 16ms/step - loss: 0.4127 - mae: 0.4127\n",
            "Epoch 62/100\n",
            "1/1 [==============================] - 0s 18ms/step - loss: 0.6332 - mae: 0.6332\n",
            "Epoch 63/100\n",
            "1/1 [==============================] - 0s 14ms/step - loss: 0.6920 - mae: 0.6920\n",
            "Epoch 64/100\n",
            "1/1 [==============================] - 0s 16ms/step - loss: 0.8271 - mae: 0.8271\n",
            "Epoch 65/100\n",
            "1/1 [==============================] - 0s 14ms/step - loss: 0.8350 - mae: 0.8350\n",
            "Epoch 66/100\n",
            "1/1 [==============================] - 0s 13ms/step - loss: 0.7638 - mae: 0.7638\n",
            "Epoch 67/100\n",
            "1/1 [==============================] - 0s 13ms/step - loss: 0.7955 - mae: 0.7955\n",
            "Epoch 68/100\n",
            "1/1 [==============================] - 0s 15ms/step - loss: 0.6266 - mae: 0.6266\n",
            "Epoch 69/100\n",
            "1/1 [==============================] - 0s 13ms/step - loss: 0.5570 - mae: 0.5570\n",
            "Epoch 70/100\n",
            "1/1 [==============================] - 0s 12ms/step - loss: 0.4191 - mae: 0.4191\n",
            "Epoch 71/100\n",
            "1/1 [==============================] - 0s 17ms/step - loss: 0.2683 - mae: 0.2683\n",
            "Epoch 72/100\n",
            "1/1 [==============================] - 0s 13ms/step - loss: 0.0866 - mae: 0.0866\n",
            "Epoch 73/100\n",
            "1/1 [==============================] - 0s 13ms/step - loss: 0.2231 - mae: 0.2231\n",
            "Epoch 74/100\n",
            "1/1 [==============================] - 0s 13ms/step - loss: 0.2598 - mae: 0.2598\n",
            "Epoch 75/100\n",
            "1/1 [==============================] - 0s 16ms/step - loss: 0.3264 - mae: 0.3264\n",
            "Epoch 76/100\n",
            "1/1 [==============================] - 0s 12ms/step - loss: 0.4046 - mae: 0.4046\n",
            "Epoch 77/100\n",
            "1/1 [==============================] - 0s 21ms/step - loss: 0.3930 - mae: 0.3930\n",
            "Epoch 78/100\n",
            "1/1 [==============================] - 0s 14ms/step - loss: 0.4671 - mae: 0.4671\n",
            "Epoch 79/100\n",
            "1/1 [==============================] - 0s 18ms/step - loss: 0.3864 - mae: 0.3864\n",
            "Epoch 80/100\n",
            "1/1 [==============================] - 0s 19ms/step - loss: 0.3698 - mae: 0.3698\n",
            "Epoch 81/100\n",
            "1/1 [==============================] - 0s 17ms/step - loss: 0.3043 - mae: 0.3043\n",
            "Epoch 82/100\n",
            "1/1 [==============================] - 0s 19ms/step - loss: 0.1814 - mae: 0.1814\n",
            "Epoch 83/100\n",
            "1/1 [==============================] - 0s 18ms/step - loss: 0.2429 - mae: 0.2429\n",
            "Epoch 84/100\n",
            "1/1 [==============================] - 0s 18ms/step - loss: 0.1744 - mae: 0.1744\n",
            "Epoch 85/100\n",
            "1/1 [==============================] - 0s 18ms/step - loss: 0.2553 - mae: 0.2553\n",
            "Epoch 86/100\n",
            "1/1 [==============================] - 0s 20ms/step - loss: 0.2062 - mae: 0.2062\n",
            "Epoch 87/100\n",
            "1/1 [==============================] - 0s 20ms/step - loss: 0.2190 - mae: 0.2190\n",
            "Epoch 88/100\n",
            "1/1 [==============================] - 0s 20ms/step - loss: 0.2146 - mae: 0.2146\n",
            "Epoch 89/100\n",
            "1/1 [==============================] - 0s 18ms/step - loss: 0.1321 - mae: 0.1321\n",
            "Epoch 90/100\n",
            "1/1 [==============================] - 0s 16ms/step - loss: 0.1693 - mae: 0.1693\n",
            "Epoch 91/100\n",
            "1/1 [==============================] - 0s 15ms/step - loss: 0.1096 - mae: 0.1096\n",
            "Epoch 92/100\n",
            "1/1 [==============================] - 0s 22ms/step - loss: 0.3442 - mae: 0.3442\n",
            "Epoch 93/100\n",
            "1/1 [==============================] - 0s 18ms/step - loss: 0.3374 - mae: 0.3374\n",
            "Epoch 94/100\n",
            "1/1 [==============================] - 0s 18ms/step - loss: 0.1718 - mae: 0.1718\n",
            "Epoch 95/100\n",
            "1/1 [==============================] - 0s 19ms/step - loss: 0.1937 - mae: 0.1937\n",
            "Epoch 96/100\n",
            "1/1 [==============================] - 0s 19ms/step - loss: 0.0603 - mae: 0.0603\n",
            "Epoch 97/100\n",
            "1/1 [==============================] - 0s 17ms/step - loss: 0.0249 - mae: 0.0249\n",
            "Epoch 98/100\n",
            "1/1 [==============================] - 0s 17ms/step - loss: 0.2192 - mae: 0.2192\n",
            "Epoch 99/100\n",
            "1/1 [==============================] - 0s 13ms/step - loss: 0.1008 - mae: 0.1008\n",
            "Epoch 100/100\n",
            "1/1 [==============================] - 0s 15ms/step - loss: 0.3213 - mae: 0.3213\n"
          ]
        },
        {
          "output_type": "execute_result",
          "data": {
            "text/plain": [
              "<keras.src.callbacks.History at 0x796de257e770>"
            ]
          },
          "metadata": {},
          "execution_count": 51
        }
      ]
    },
    {
      "cell_type": "code",
      "source": [
        "model.predict([17.0])"
      ],
      "metadata": {
        "colab": {
          "base_uri": "https://localhost:8080/"
        },
        "id": "o9sN3fEQglgd",
        "outputId": "11bbdcda-6165-4211-a4c5-e8becc81cbbb"
      },
      "execution_count": 52,
      "outputs": [
        {
          "output_type": "stream",
          "name": "stdout",
          "text": [
            "1/1 [==============================] - 0s 98ms/step\n"
          ]
        },
        {
          "output_type": "execute_result",
          "data": {
            "text/plain": [
              "array([[27.812897]], dtype=float32)"
            ]
          },
          "metadata": {},
          "execution_count": 52
        }
      ]
    },
    {
      "cell_type": "markdown",
      "source": [
        "![image.png](data:image/png;base64,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)"
      ],
      "metadata": {
        "id": "-c4nhFhHi5br"
      }
    },
    {
      "cell_type": "markdown",
      "source": [
        "## Evaluating a model\n",
        "\n",
        "In practice, a typical workflow you'll go through when building neural is:\n",
        "\n",
        "```\n",
        "build a model -> evaluate it -> tweak a model -> fit it -> evaluate it -> tweak a model -> evaluate it....\n",
        "\n",
        "```\n",
        "\n",
        "when it comes to evaluation there are three words,\n",
        "\n",
        "> visualize, visualize, visualize\n",
        "\n",
        "it's a good idea to visualize:\n",
        "* The data - what data are we working with? what does it look like?\n",
        "* what does our model look like?\n",
        "* The training of the mode - How does model perform while it learns\n",
        "* the prediction of the model - how does it fair against the ground truth."
      ],
      "metadata": {
        "id": "c-olGjwki5IE"
      }
    },
    {
      "cell_type": "code",
      "source": [
        "# making a bigger dataset\n",
        "\n",
        "X = tf.range(-100, 100, 4)\n",
        "X"
      ],
      "metadata": {
        "colab": {
          "base_uri": "https://localhost:8080/"
        },
        "id": "3_scWTlkgu1a",
        "outputId": "fd21b19c-15dc-426b-ac02-1317e9e7c77a"
      },
      "execution_count": 53,
      "outputs": [
        {
          "output_type": "execute_result",
          "data": {
            "text/plain": [
              "<tf.Tensor: shape=(50,), dtype=int32, numpy=\n",
              "array([-100,  -96,  -92,  -88,  -84,  -80,  -76,  -72,  -68,  -64,  -60,\n",
              "        -56,  -52,  -48,  -44,  -40,  -36,  -32,  -28,  -24,  -20,  -16,\n",
              "        -12,   -8,   -4,    0,    4,    8,   12,   16,   20,   24,   28,\n",
              "         32,   36,   40,   44,   48,   52,   56,   60,   64,   68,   72,\n",
              "         76,   80,   84,   88,   92,   96], dtype=int32)>"
            ]
          },
          "metadata": {},
          "execution_count": 53
        }
      ]
    },
    {
      "cell_type": "code",
      "source": [
        "# make labels for the datasets\n",
        "\n",
        "y = X + 10\n",
        "y"
      ],
      "metadata": {
        "colab": {
          "base_uri": "https://localhost:8080/"
        },
        "id": "RQC3SwQ5oQyx",
        "outputId": "6cfc73b5-cfbb-4ab8-f8cb-c90d42356302"
      },
      "execution_count": 55,
      "outputs": [
        {
          "output_type": "execute_result",
          "data": {
            "text/plain": [
              "<tf.Tensor: shape=(50,), dtype=int32, numpy=\n",
              "array([-90, -86, -82, -78, -74, -70, -66, -62, -58, -54, -50, -46, -42,\n",
              "       -38, -34, -30, -26, -22, -18, -14, -10,  -6,  -2,   2,   6,  10,\n",
              "        14,  18,  22,  26,  30,  34,  38,  42,  46,  50,  54,  58,  62,\n",
              "        66,  70,  74,  78,  82,  86,  90,  94,  98, 102, 106], dtype=int32)>"
            ]
          },
          "metadata": {},
          "execution_count": 55
        }
      ]
    },
    {
      "cell_type": "code",
      "source": [
        "plt.scatter(X,y)"
      ],
      "metadata": {
        "colab": {
          "base_uri": "https://localhost:8080/",
          "height": 448
        },
        "id": "76t0CX2YoXZV",
        "outputId": "5b928e67-e8bb-4868-ea2e-2666521556cc"
      },
      "execution_count": 56,
      "outputs": [
        {
          "output_type": "execute_result",
          "data": {
            "text/plain": [
              "<matplotlib.collections.PathCollection at 0x796de0fed3c0>"
            ]
          },
          "metadata": {},
          "execution_count": 56
        },
        {
          "output_type": "display_data",
          "data": {
            "text/plain": [
              "<Figure size 640x480 with 1 Axes>"
            ],
            "image/png": "[encoded data removed]"
          },
          "metadata": {}
        }
      ]
    },
    {
      "cell_type": "markdown",
      "source": [
        "### The three sets\n",
        "\n",
        "* Training set -  The model learns from this data, which is typically 70-80% of thhe total data you have available.\n",
        "\n",
        "* validation set - the model gets tuned on this data, which is typically 10-15% of the data available.\n",
        "\n",
        "* test set - the model gets evaluated on this dataset to test what is has learned, this set is typically 10-15% of the total data available"
      ],
      "metadata": {
        "id": "tEGFzfdeokh5"
      }
    },
    {
      "cell_type": "code",
      "source": [
        "# check the length of data we have\n",
        "\n",
        "len(X)"
      ],
      "metadata": {
        "colab": {
          "base_uri": "https://localhost:8080/"
        },
        "id": "F8EfMSmNpqL2",
        "outputId": "f1200bae-1f24-443f-dcf7-4d65a6c4f590"
      },
      "execution_count": 58,
      "outputs": [
        {
          "output_type": "execute_result",
          "data": {
            "text/plain": [
              "50"
            ]
          },
          "metadata": {},
          "execution_count": 58
        }
      ]
    },
    {
      "cell_type": "code",
      "source": [
        "X_train = X[:40] #selecting first 40 80%\n",
        "y_train = y[:40]\n",
        "\n",
        "\n",
        "X_test = X[40:]\n",
        "y_test = y[40:]\n",
        "\n",
        "len(X_train), len(X_test)"
      ],
      "metadata": {
        "colab": {
          "base_uri": "https://localhost:8080/"
        },
        "id": "D7268TmCqQaU",
        "outputId": "e12f2acc-3f1b-4867-970a-50806193b987"
      },
      "execution_count": 59,
      "outputs": [
        {
          "output_type": "execute_result",
          "data": {
            "text/plain": [
              "(40, 10)"
            ]
          },
          "metadata": {},
          "execution_count": 59
        }
      ]
    },
    {
      "cell_type": "markdown",
      "source": [
        "### Visualising the data\n",
        "\n",
        "Now we've got our data in training and test sets.. let's visualize it."
      ],
      "metadata": {
        "id": "mZxlOgDBq1LO"
      }
    },
    {
      "cell_type": "code",
      "source": [
        "plt.scatter(X_train, y_train, c='b', label=\"training data\")\n",
        "plt.scatter(X_test, y_test, c='c', label=\"testing data\")\n",
        "plt.legend;"
      ],
      "metadata": {
        "colab": {
          "base_uri": "https://localhost:8080/",
          "height": 430
        },
        "id": "AWuRt8_drQV_",
        "outputId": "a2ee84d3-3d2e-433a-82d0-860d4934eba7"
      },
      "execution_count": 62,
      "outputs": [
        {
          "output_type": "display_data",
          "data": {
            "text/plain": [
              "<Figure size 640x480 with 1 Axes>"
            ],
            "image/png": "[encoded data removed]"
          },
          "metadata": {}
        }
      ]
    },
    {
      "cell_type": "code",
      "source": [
        "# creating a model\n",
        "\n",
        "model = tf.keras.Sequential([\n",
        "    tf.keras.layers.Dense(10, activation=\"relu\"),\n",
        "    tf.keras.layers.Dense(1)\n",
        "])\n",
        "\n",
        "model.compile(loss=tf.keras.losses.mae,\n",
        "              optimizer = tf.keras.optimizers.SGD(),\n",
        "              metrics=[\"mae\"])\n",
        "\n",
        "#model.fit(X_train, y_train, epochs=100)"
      ],
      "metadata": {
        "id": "QUm-1pFprWTY"
      },
      "execution_count": 64,
      "outputs": []
    },
    {
      "cell_type": "code",
      "source": [
        "# Let's create a model which builds automatically by defining the input shape argument\n",
        "\n",
        "tf.random.set_seed(42)\n",
        "\n",
        "model = tf.keras.Sequential([\n",
        "    tf.keras.layers.Dense(1, input_shape=[1])\n",
        "])\n",
        "\n",
        "model.compile(loss=tf.keras.losses.mae,\n",
        "              optimizer=tf.keras.optimizers.SGD(),\n",
        "              metrics=[\"mae\"])\n",
        "\n",
        "model.summary(\n",
        ")"
      ],
      "metadata": {
        "colab": {
          "base_uri": "https://localhost:8080/"
        },
        "id": "7KcW3_O6szu5",
        "outputId": "6911d569-e924-416c-98a2-ed6ecfec7b38"
      },
      "execution_count": 67,
      "outputs": [
        {
          "output_type": "stream",
          "name": "stdout",
          "text": [
            "Model: \"sequential_26\"\n",
            "_________________________________________________________________\n",
            " Layer (type)                Output Shape              Param #   \n",
            "=================================================================\n",
            " dense_65 (Dense)            (None, 1)                 2         \n",
            "                                                                 \n",
            "=================================================================\n",
            "Total params: 2 (8.00 Byte)\n",
            "Trainable params: 2 (8.00 Byte)\n",
            "Non-trainable params: 0 (0.00 Byte)\n",
            "_________________________________________________________________\n"
          ]
        }
      ]
    },
    {
      "cell_type": "markdown",
      "source": [
        "* Total params - total number of parameters in the model.\n",
        "* Trainable parameters - these are the parameters (patterns) the model can update as it trains.\n",
        "* non-trainable params - these parameters aren't updated during training (this is typical when you bring in already learn patterns or parameters from other models during **transfer learning**)."
      ],
      "metadata": {
        "id": "yCR5TqkDs4WF"
      }
    },
    {
      "cell_type": "code",
      "source": [],
      "metadata": {
        "id": "LioZOCPwu40q"
      },
      "execution_count": null,
      "outputs": []
    }
  ]
}